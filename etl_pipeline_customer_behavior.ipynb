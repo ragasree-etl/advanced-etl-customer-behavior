{
 "cells": [
  {
   "cell_type": "markdown",
   "id": "89fc62e3",
   "metadata": {},
   "source": [
    "# ETL Pipeline – Customer Behavior Analytics"
   ]
  },
  {
   "cell_type": "code",
   "execution_count": null,
   "id": "f7158b28",
   "metadata": {},
   "outputs": [],
   "source": [
    "\n",
    "import pandas as pd\n",
    "from datetime import datetime\n",
    "\n",
    "# Load datasets\n",
    "df_web = pd.read_csv(\"data/raw_web_activity.csv\")\n",
    "df_support = pd.read_csv(\"data/raw_support_logs.csv\")\n",
    "df_tx = pd.read_csv(\"data/raw_transactions.csv\")\n",
    "\n",
    "# Preprocess dates\n",
    "df_web[\"Session_Date\"] = pd.to_datetime(df_web[\"Session_Date\"])\n",
    "df_support[\"Ticket_Date\"] = pd.to_datetime(df_support[\"Ticket_Date\"])\n",
    "df_tx[\"Transaction_Date\"] = pd.to_datetime(df_tx[\"Transaction_Date\"])\n",
    "\n",
    "# Aggregate web data\n",
    "web_agg = df_web.groupby(\"User_ID\").agg({\n",
    "    \"Page_Views\": \"sum\",\n",
    "    \"Clicks\": \"sum\",\n",
    "    \"Session_Date\": \"count\"\n",
    "}).rename(columns={\"Session_Date\": \"Web_Sessions\"}).reset_index()\n",
    "\n",
    "# Aggregate support data\n",
    "support_agg = df_support.groupby(\"User_ID\").agg({\n",
    "    \"Resolution_Time_Hours\": \"mean\",\n",
    "    \"Resolved\": lambda x: (x == \"Yes\").sum()\n",
    "}).rename(columns={\"Resolution_Time_Hours\": \"Avg_Resolution_Time\", \"Resolved\": \"Tickets_Resolved\"}).reset_index()\n",
    "\n",
    "# Aggregate transaction data\n",
    "tx_agg = df_tx.groupby(\"User_ID\").agg({\n",
    "    \"Amount\": \"sum\",\n",
    "    \"Transaction_Date\": \"count\"\n",
    "}).rename(columns={\"Amount\": \"Total_Spent\", \"Transaction_Date\": \"Transactions\"}).reset_index()\n",
    "\n",
    "# Merge all\n",
    "df_merged = web_agg.merge(support_agg, on=\"User_ID\", how=\"outer\").merge(tx_agg, on=\"User_ID\", how=\"outer\").fillna(0)\n",
    "\n",
    "# Scoring logic\n",
    "df_merged[\"Engagement_Score\"] = df_merged[\"Page_Views\"] + df_merged[\"Clicks\"] + df_merged[\"Web_Sessions\"]\n",
    "df_merged[\"Churn_Risk\"] = df_merged.apply(lambda x: \"High\" if x[\"Engagement_Score\"] < 10 and x[\"Tickets_Resolved\"] == 0 else \"Medium\" if x[\"Engagement_Score\"] < 20 else \"Low\", axis=1)\n",
    "\n",
    "# Save output\n",
    "df_merged.to_csv(\"data/curated_behavior_model.csv\", index=False)\n",
    "print(\"ETL pipeline completed and saved as 'curated_behavior_model.csv'\")\n"
   ]
  }
 ],
 "metadata": {},
 "nbformat": 4,
 "nbformat_minor": 5
}